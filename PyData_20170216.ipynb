{
 "cells": [
  {
   "cell_type": "markdown",
   "metadata": {},
   "source": [
    "# Coding as Literacy\n",
    "## Creating Value Through Machine Learning and Publicly Available Data Streams\n",
    "\n",
    "<hr style=\"height:3px;border:none;color:stillblue;background-color:black;\" />\n",
    "[Vahid Moosavi](https://vahidmoosavi.com)\n",
    "\n",
    "<hr style=\"height:1px;border:none;color:stillblue;background-color:black;\" />\n",
    "\n",
    "<span style=\"color:steelblue;font-size: 1em;\"> 16th February 2017</span>"
   ]
  },
  {
   "cell_type": "markdown",
   "metadata": {},
   "source": [
    "### <a></a>\n",
    "<hr style=\"height:3px;border:none;color:stillblue;background-color:black;\" />\n",
    "## Outline\n",
    "### About Me\n",
    "### Why Data Driven Modeling and what is coding as literacy>\n",
    "### Some Experimental Applications\n",
    "# <a></a>\n",
    "<hr style=\"height:3px;border:none;color:stillblue;background-color:black;\" />\n",
    "# <a></a>\n"
   ]
  },
  {
   "cell_type": "markdown",
   "metadata": {},
   "source": [
    "# About Me\n",
    "\n",
    "# I am a systems engineer with interest in \"Scientific Modeling\" as a generic process. \n",
    "<hr style=\"height:3px;border:none;color:stillblue;background-color:black;\" />\n",
    " <span style=\"color:steelblue;font-size: 1.5em;line-height: 100%;\"> I see Modeling as \"Alchemy\", where models are ideally gold, made out of other lower value elements</span>\n",
    "<hr style=\"height:3px;border:none;color:stillblue;background-color:black;\" />\n",
    "<span style=\"color:steelblue;font-size: 1.5em;line-height: 100%;\"> Theoretically interested in the idea of \"Representation and Idealization\" in scientific modeling</span>\n",
    "\n",
    "[My PhD thesis: Pre-Specific Modeling](http://e-collection.library.ethz.ch/eserv/eth:48219/eth-48219-02.pdf)\n",
    "<hr style=\"height:3px;border:none;color:stillblue;background-color:black;\" />\n"
   ]
  },
  {
   "cell_type": "markdown",
   "metadata": {},
   "source": [
    "\n",
    "# How I position myself in academia?\n",
    "#### And of course, this was the original vision of General Systems Theory back in 1950s (Unity Through Diversity)\n",
    "![](Images/py1.png)\n",
    "# <a></a>\n",
    "<hr style=\"height:3px;border:none;color:stillblue;background-color:black;\" />\n",
    "# <a></a>\n",
    "\n"
   ]
  },
  {
   "cell_type": "markdown",
   "metadata": {},
   "source": [
    "## Why Data Driven Modeling and what is Coding as Literacy? \n",
    "\n",
    "<hr style=\"height:3px;border:none;color:stillblue;background-color:black;\" />\n",
    "\n",
    "![](Images/py2.png)\n",
    "\n",
    "##  Data Driven Modeling causes an inversion from \"knowing the answers\" to \"finding good questions\". Then, with data and Machine Learning we can answer any question, but the importance is the question itslef."
   ]
  },
  {
   "cell_type": "markdown",
   "metadata": {},
   "source": [
    "\n",
    "### Coding as literacy means a new way of communication and looking at the world\n",
    "![](Images/py3.png)"
   ]
  },
  {
   "cell_type": "markdown",
   "metadata": {},
   "source": [
    "# Applications\n",
    "<hr style=\"height:3px;border:none;color:stillblue;background-color:black;\" />\n",
    "<span style=\"color:red;font-size: 1.5em;line-height: 100%;\">I have tried many applications domains </span>\n",
    "* Supply Chains and manufacturing systems\n",
    "* Transportation Dynamics\n",
    "* Air Pollution Modeling\n",
    "* Water Flow Modeling\n",
    "* Real Estate Market\n",
    "* Urban Design \n",
    "* Economic Networks\n",
    "* Natural Language Modeling\n",
    "\n",
    "<span style=\"color:steelblue;font-size: 1.5em;line-height: 100%;\">In terms of techniques </span>\n",
    "* In general any ML algorithm, thanks to Scikit-learn and recently Tensorflow\n",
    "* Mostly focused on Self Organizing Maps and Markov Chains\n",
    "* Web Applications: Flask, D3, Leaflet\n",
    "* Scraping (BS4,LXML) and APIs in general for data collection\n",
    "<hr style=\"height:3px;border:none;color:stillblue;background-color:black;\" />\n",
    "\n",
    "\n",
    "# Today I will present 3 applications\n",
    "#### 1-Personalized News Papers ( Natural Language Processing)\n",
    "#### 2- Real Estate Market as a Media Business\n",
    "#### 3- Urban Morphology Meets Big Data and Deep Learning\n",
    "<hr style=\"height:3px;border:none;color:stillblue;background-color:black;\" />\n",
    "\n",
    "\n"
   ]
  },
  {
   "cell_type": "markdown",
   "metadata": {},
   "source": [
    "# 1- Personalized News Paper\n",
    "<span style=\"color:steelblue;font-size: 1.5em;line-height: 100%;\"> The Basic Idea</span>\n",
    "* Issue of Privacy in Social Media and Centralized Servers\n",
    "* Toward a network of Private Servers\n",
    "* Or how to invert evrything upside down\n",
    "<hr style=\"height:3px;border:none;color:stillblue;background-color:black;\" />\n",
    "\n",
    "<span style=\"color:steelblue;font-size: 1.5em;line-height: 100%;\"> Main Requirements</span>\n",
    "* A dedicated private server (we started with raspberry pi! totally 80CHF and now MiniPCs 100CHF from Alibaba!)\n",
    "* Continuous Collection of News through WebCrawling and APIs (e.g. around 10K per night, BE A [Super User](https://twitter.com/SOMNEWSREADER/following) FOR TWITTER!)\n",
    "* Applying ML (Unsupervised) to cluster the news (mainly text)\n",
    "* Interactive ML (RL or Supervised) to learn what user dislikes! (Twitter sees you are following many, but privately you unfollow them)\n",
    "* Or how to invert evrything upside down\n",
    "<hr style=\"height:3px;border:none;color:stillblue;background-color:black;\" />\n",
    "\n",
    "<span style=\"color:steelblue;font-size: 1.5em;line-height: 100%;\"> Main Techniques and Frameworks</span>\n",
    "* [Word2Vec: My Presentation on Relational Models nad Neural Embeddings](http://nbviewer.jupyter.org/github/sevamoo/data_driven_modeling_2016/blob/master/09_Relational%20Representation_Text_Modeling_20161129.ipynb)\n",
    "\n",
    "* Self Organizing Maps\n",
    "* K-Means\n",
    "* Flask\n",
    "* Twitter API\n",
    "\n",
    "<hr style=\"height:3px;border:none;color:stillblue;background-color:black;\" />\n",
    "<span style=\"color:red;font-size: 1.5em;line-height: 100%;\"> Live Demo (localhost)</span>\n",
    "- [Online With A Super Slow Server](http://todo-vahidmoosavi.rhcloud.com/somnews/)\n",
    "<hr style=\"height:3px;border:none;color:stillblue;background-color:black;\" />\n"
   ]
  },
  {
   "cell_type": "markdown",
   "metadata": {},
   "source": [
    "# 2- Real Estate Market as a Media Business\n",
    "<span style=\"color:steelblue;font-size: 1.5em;line-height: 100%;\"> The Basic Idea</span>\n",
    "* Initially: To see how it is easy to predict real estate property values, BUT THE WERE NO DATA AVAILABLE!\n",
    "* So, we started crawling publically available data in Switzerland and Germany + open geodata\n",
    "* Prediction was easily possible with ML (94% accuracy (ARE) for rental price estimations in Switzerland).\n",
    "* This took us more into this application\n",
    "<hr style=\"height:3px;border:none;color:stillblue;background-color:black;\" />\n",
    "\n",
    "<span style=\"color:steelblue;font-size: 1.5em;line-height: 100%;\"> Main Elements</span>\n",
    "* Continuous Collection of online ads through web crawling\n",
    "* Geo-Coding: Google API\n",
    "* Collecting any other Open Source Data: OSM, Geoadmin.ch\n",
    "* Applying ML (Unsupervised) for filling the empty fields\n",
    "* Automated Evaluation Model on a server\n",
    "* Interactive web application\n",
    "\n",
    "<hr style=\"height:3px;border:none;color:stillblue;background-color:black;\" />\n",
    "\n",
    "<span style=\"color:steelblue;font-size: 1.5em;line-height: 100%;\"> Main Techniques and Frameworks</span>\n",
    "* Self Organizing Maps for multidimensional probablistic models\n",
    "* Ensemble models such as Random Forests (Scikit-learn)\n",
    "* Flask as web framework\n",
    "* Leaflet for mapping application\n",
    "* Mapbox Layers \n",
    "* D3 for interactive visualizations\n",
    "\n",
    "- [Online Version](http://www.fairyfy.com)\n",
    "![](Images/py4.png)\n",
    "<hr style=\"height:3px;border:none;color:stillblue;background-color:black;\" />\n"
   ]
  },
  {
   "cell_type": "markdown",
   "metadata": {},
   "source": [
    "# 3- Urban Morphology Meets Big Data and Deep Learning\n",
    "<span style=\"color:steelblue;font-size: 1.5em;line-height: 100%;\"> The Basic Idea</span>\n",
    "* Urban Morphology is the study of urban forms and patterns\n",
    "* But currently limitted to theoretical and abstract models, which are based on limitted observations\n",
    "* In terms of ML, urban planners work with \"A-priori\" Rules \n",
    "\n",
    "\n",
    "\n",
    "![](Images/py5.jpg)\n",
    " \n",
    "\n",
    "\n",
    "* What if we collect the data for thousands of cities and use ML to study them in a more data-driven way, then we can answer questions such as:\n",
    "* **What are the clusters of emergent urban forms at the global scale?**\n",
    "* **What are the charachterisitics of each cluster?**\n",
    "* **Or predict quantitative features of cities (e.g. road pollution) by looking at their urban forms: streets, buildings, satellite images**\n",
    "\n",
    "<hr style=\"height:3px;border:none;color:stillblue;background-color:black;\" />\n",
    "\n",
    "<span style=\"color:steelblue;font-size: 1.5em;line-height: 100%;\"> Main Elements</span>\n",
    "* Collecting images of street networks from OSM via styled maps from  [Mapbox](href=https://www.mapbox.com/studio/)\n",
    "* It is also possible to get the geometric information of road networks and buildings. There around 150M digitial buildings in OSM format\n"
   ]
  },
  {
   "cell_type": "code",
   "execution_count": 1,
   "metadata": {
    "collapsed": false
   },
   "outputs": [
    {
     "data": {
      "image/jpeg": "[encoded data removed]",
      "text/html": [
       "\n",
       "        <iframe\n",
       "            width=\"700\"\n",
       "            height=\"600\"\n",
       "            src=\"https://www.youtube.com/embed/QFF5IezOdaU\"\n",
       "            frameborder=\"0\"\n",
       "            allowfullscreen\n",
       "        ></iframe>\n",
       "        "
      ],
      "text/plain": [
       "<IPython.lib.display.YouTubeVideo at 0x10fa75ad0>"
      ]
     },
     "execution_count": 1,
     "metadata": {},
     "output_type": "execute_result"
    }
   ],
   "source": [
    "from IPython.display import YouTubeVideo\n",
    "YouTubeVideo('QFF5IezOdaU',width=700, height=600)"
   ]
  },
  {
   "cell_type": "markdown",
   "metadata": {},
   "source": [
    "\n",
    "<span style=\"color:steelblue;font-size: 1.5em;line-height: 100%;\"> Main Elements</span>\n",
    "* How to **compare** city maps? \n",
    "* To learn a **dense representation** of each city \n",
    "<hr style=\"height:3px;border:none;color:stillblue;background-color:black;\" />\n",
    "\n",
    "<span style=\"color:steelblue;font-size: 1.5em;line-height: 100%;\"> Main Techniques and Frameworks</span>\n",
    "* (**Unsupervised**) Convolutional Auto-Encoders to learn the dense representations of each city\n",
    "\n",
    "\n",
    "# <a></a>\n",
    "# <a></a>\n",
    "<hr style=\"height:3px;border:none;color:stillblue;background-color:black;\" />\n",
    "<span style=\"color:red;font-size: 1.5em;line-height: 100%;\"> Som initial Results</span>\n",
    "* Using KNN on the learned dense vectors for each city\n",
    "![](Images/py6.png)\n",
    "\n",
    "\n",
    "[Online Version](https://sevamoo.github.io/cityfinder/)\n",
    "![](Images/py7.png)\n",
    "* Further, Self Organizing Maps for dimensionality reduction and visualization\n"
   ]
  },
  {
   "cell_type": "code",
   "execution_count": 2,
   "metadata": {
    "collapsed": false
   },
   "outputs": [
    {
     "data": {
      "image/jpeg": "[encoded data removed]",
      "text/html": [
       "\n",
       "        <iframe\n",
       "            width=\"700\"\n",
       "            height=\"600\"\n",
       "            src=\"https://www.youtube.com/embed/j0mrOhPyhRI\"\n",
       "            frameborder=\"0\"\n",
       "            allowfullscreen\n",
       "        ></iframe>\n",
       "        "
      ],
      "text/plain": [
       "<IPython.lib.display.YouTubeVideo at 0x10fe9a950>"
      ]
     },
     "execution_count": 2,
     "metadata": {},
     "output_type": "execute_result"
    }
   ],
   "source": [
    "from IPython.display import YouTubeVideo\n",
    "YouTubeVideo('j0mrOhPyhRI',width=700, height=600)"
   ]
  },
  {
   "cell_type": "markdown",
   "metadata": {},
   "source": [
    "\n",
    "[A high resolution image in 78010 x 21850 pixels (Attention:460MB)](https://drive.google.com/file/d/0B9Z7rVJcvzQASk5pNmUwdmhNc3c/view?usp=sharing)\n",
    "\n",
    "[Download lower resolution version (40MB)](https://drive.google.com/file/d/0B9Z7rVJcvzQAQ0E5UDJ2MVBmQzg/view?usp=sharing)\n",
    "\n",
    "[GitHub Repo. of the project](https://github.com/sevamoo/roadsareread)\n",
    "\n",
    "<hr style=\"height:3px;border:none;color:stillblue;background-color:black;\" />\n",
    "<span style=\"color:red;font-size: 1.5em;line-height: 100%;\"> Next Steps</span>\n",
    "* (**Supervised**) Convolutional Nets to Predict Airpolution (Not finished yet!) \n",
    "# <a></a>\n",
    "<hr style=\"height:3px;border:none;color:stillblue;background-color:black;\" />\n"
   ]
  },
  {
   "cell_type": "markdown",
   "metadata": {},
   "source": [
    "# Conclusions and Questions to Discuss\n",
    "\n",
    "### Plug and Play Machine Learning\n",
    "\n",
    "## What happens to the classical notion of \"Domain Expertise\"?\n",
    "\n",
    "###  Big Data and Machine Learning are causing an inversion from \"knowing the answers\" to \"finding good questions\". Then, with data and Machine Learning we can answer any question, but the importance is the question itslef.\n",
    "\n",
    "<hr style=\"height:3px;border:none;color:stillblue;background-color:black;\" />\n",
    "\n",
    "\n",
    "![](Images/py2.png)"
   ]
  },
  {
   "cell_type": "code",
   "execution_count": null,
   "metadata": {
    "collapsed": true
   },
   "outputs": [],
   "source": []
  }
 ],
 "metadata": {
  "anaconda-cloud": {},
  "kernelspec": {
   "display_name": "Python [default]",
   "language": "python",
   "name": "python2"
  },
  "language_info": {
   "codemirror_mode": {
    "name": "ipython",
    "version": 2
   },
   "file_extension": ".py",
   "mimetype": "text/x-python",
   "name": "python",
   "nbconvert_exporter": "python",
   "pygments_lexer": "ipython2",
   "version": "2.7.13"
  }
 },
 "nbformat": 4,
 "nbformat_minor": 0
}
